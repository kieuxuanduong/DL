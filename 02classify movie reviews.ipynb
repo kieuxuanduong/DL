{
 "cells": [
  {
   "cell_type": "code",
   "execution_count": 1,
   "metadata": {},
   "outputs": [
    {
     "name": "stdout",
     "output_type": "stream",
     "text": [
      "2.0.0-alpha0\n"
     ]
    }
   ],
   "source": [
    "from __future__ import absolute_import, division, print_function\n",
    "\n",
    "import tensorflow as tf\n",
    "from tensorflow import keras\n",
    "\n",
    "import numpy as np\n",
    "\n",
    "print(tf.__version__)"
   ]
  },
  {
   "cell_type": "code",
   "execution_count": 2,
   "metadata": {},
   "outputs": [],
   "source": [
    "imdb = keras.datasets.imdb\n",
    "\n",
    "(train_data, train_labels), (test_data, test_labels) = imdb.load_data(num_words=10000)"
   ]
  },
  {
   "cell_type": "code",
   "execution_count": 3,
   "metadata": {},
   "outputs": [
    {
     "name": "stdout",
     "output_type": "stream",
     "text": [
      "Training entries: 25000, labels: 25000\n"
     ]
    }
   ],
   "source": [
    "print(\"Training entries: {}, labels: {}\".format(len(train_data), len(train_labels)))"
   ]
  },
  {
   "cell_type": "code",
   "execution_count": 4,
   "metadata": {},
   "outputs": [
    {
     "name": "stdout",
     "output_type": "stream",
     "text": [
      "[1, 14, 22, 16, 43, 530, 973, 1622, 1385, 65, 458, 4468, 66, 3941, 4, 173, 36, 256, 5, 25, 100, 43, 838, 112, 50, 670, 2, 9, 35, 480, 284, 5, 150, 4, 172, 112, 167, 2, 336, 385, 39, 4, 172, 4536, 1111, 17, 546, 38, 13, 447, 4, 192, 50, 16, 6, 147, 2025, 19, 14, 22, 4, 1920, 4613, 469, 4, 22, 71, 87, 12, 16, 43, 530, 38, 76, 15, 13, 1247, 4, 22, 17, 515, 17, 12, 16, 626, 18, 2, 5, 62, 386, 12, 8, 316, 8, 106, 5, 4, 2223, 5244, 16, 480, 66, 3785, 33, 4, 130, 12, 16, 38, 619, 5, 25, 124, 51, 36, 135, 48, 25, 1415, 33, 6, 22, 12, 215, 28, 77, 52, 5, 14, 407, 16, 82, 2, 8, 4, 107, 117, 5952, 15, 256, 4, 2, 7, 3766, 5, 723, 36, 71, 43, 530, 476, 26, 400, 317, 46, 7, 4, 2, 1029, 13, 104, 88, 4, 381, 15, 297, 98, 32, 2071, 56, 26, 141, 6, 194, 7486, 18, 4, 226, 22, 21, 134, 476, 26, 480, 5, 144, 30, 5535, 18, 51, 36, 28, 224, 92, 25, 104, 4, 226, 65, 16, 38, 1334, 88, 12, 16, 283, 5, 16, 4472, 113, 103, 32, 15, 16, 5345, 19, 178, 32]\n"
     ]
    }
   ],
   "source": [
    "print(train_data[0])"
   ]
  },
  {
   "cell_type": "code",
   "execution_count": 5,
   "metadata": {},
   "outputs": [
    {
     "data": {
      "text/plain": [
       "(218, 189)"
      ]
     },
     "execution_count": 5,
     "metadata": {},
     "output_type": "execute_result"
    }
   ],
   "source": [
    "len(train_data[0]), len(train_data[1])"
   ]
  },
  {
   "cell_type": "code",
   "execution_count": 6,
   "metadata": {},
   "outputs": [],
   "source": [
    "# A dictionary mapping words to an integer index\n",
    "word_index = imdb.get_word_index()\n",
    "\n",
    "# The first indices are reserved\n",
    "word_index = {k:(v+3) for k,v in word_index.items()} \n",
    "word_index[\"<PAD>\"] = 0\n",
    "word_index[\"<START>\"] = 1\n",
    "word_index[\"<UNK>\"] = 2  # unknown\n",
    "word_index[\"<UNUSED>\"] = 3\n",
    "\n",
    "reverse_word_index = dict([(value, key) for (key, value) in word_index.items()])\n",
    "\n",
    "def decode_review(text):\n",
    "    return ' '.join([reverse_word_index.get(i, '?') for i in text])"
   ]
  },
  {
   "cell_type": "code",
   "execution_count": 7,
   "metadata": {},
   "outputs": [
    {
     "data": {
      "text/plain": [
       "\"<START> this film was just brilliant casting location scenery story direction everyone's really suited the part they played and you could just imagine being there robert <UNK> is an amazing actor and now the same being director <UNK> father came from the same scottish island as myself so i loved the fact there was a real connection with this film the witty remarks throughout the film were great it was just brilliant so much that i bought the film as soon as it was released for <UNK> and would recommend it to everyone to watch and the fly fishing was amazing really cried at the end it was so sad and you know what they say if you cry at a film it must have been good and this definitely was also <UNK> to the two little boy's that played the <UNK> of norman and paul they were just brilliant children are often left out of the <UNK> list i think because the stars that play them all grown up are such a big profile for the whole film but these children are amazing and should be praised for what they have done don't you think the whole story was so lovely because it was true and was someone's life after all that was shared with us all\""
      ]
     },
     "execution_count": 7,
     "metadata": {},
     "output_type": "execute_result"
    }
   ],
   "source": [
    "decode_review(train_data[0])"
   ]
  },
  {
   "cell_type": "code",
   "execution_count": 8,
   "metadata": {},
   "outputs": [],
   "source": [
    "train_data = keras.preprocessing.sequence.pad_sequences(train_data,\n",
    "                                                        value=word_index[\"<PAD>\"],\n",
    "                                                        padding='post',\n",
    "                                                        maxlen=256)\n",
    "\n",
    "test_data = keras.preprocessing.sequence.pad_sequences(test_data,\n",
    "                                                       value=word_index[\"<PAD>\"],\n",
    "                                                       padding='post',\n",
    "                                                       maxlen=256)"
   ]
  },
  {
   "cell_type": "code",
   "execution_count": 9,
   "metadata": {},
   "outputs": [
    {
     "data": {
      "text/plain": [
       "(256, 256)"
      ]
     },
     "execution_count": 9,
     "metadata": {},
     "output_type": "execute_result"
    }
   ],
   "source": [
    "len(train_data[0]), len(train_data[1])"
   ]
  },
  {
   "cell_type": "code",
   "execution_count": 10,
   "metadata": {},
   "outputs": [
    {
     "name": "stdout",
     "output_type": "stream",
     "text": [
      "[   1   14   22   16   43  530  973 1622 1385   65  458 4468   66 3941\n",
      "    4  173   36  256    5   25  100   43  838  112   50  670    2    9\n",
      "   35  480  284    5  150    4  172  112  167    2  336  385   39    4\n",
      "  172 4536 1111   17  546   38   13  447    4  192   50   16    6  147\n",
      " 2025   19   14   22    4 1920 4613  469    4   22   71   87   12   16\n",
      "   43  530   38   76   15   13 1247    4   22   17  515   17   12   16\n",
      "  626   18    2    5   62  386   12    8  316    8  106    5    4 2223\n",
      " 5244   16  480   66 3785   33    4  130   12   16   38  619    5   25\n",
      "  124   51   36  135   48   25 1415   33    6   22   12  215   28   77\n",
      "   52    5   14  407   16   82    2    8    4  107  117 5952   15  256\n",
      "    4    2    7 3766    5  723   36   71   43  530  476   26  400  317\n",
      "   46    7    4    2 1029   13  104   88    4  381   15  297   98   32\n",
      " 2071   56   26  141    6  194 7486   18    4  226   22   21  134  476\n",
      "   26  480    5  144   30 5535   18   51   36   28  224   92   25  104\n",
      "    4  226   65   16   38 1334   88   12   16  283    5   16 4472  113\n",
      "  103   32   15   16 5345   19  178   32    0    0    0    0    0    0\n",
      "    0    0    0    0    0    0    0    0    0    0    0    0    0    0\n",
      "    0    0    0    0    0    0    0    0    0    0    0    0    0    0\n",
      "    0    0    0    0]\n"
     ]
    }
   ],
   "source": [
    "print(train_data[0])"
   ]
  },
  {
   "cell_type": "code",
   "execution_count": 11,
   "metadata": {},
   "outputs": [
    {
     "name": "stdout",
     "output_type": "stream",
     "text": [
      "Model: \"sequential\"\n",
      "_________________________________________________________________\n",
      "Layer (type)                 Output Shape              Param #   \n",
      "=================================================================\n",
      "embedding (Embedding)        (None, None, 16)          160000    \n",
      "_________________________________________________________________\n",
      "global_average_pooling1d (Gl (None, 16)                0         \n",
      "_________________________________________________________________\n",
      "dense (Dense)                (None, 16)                272       \n",
      "_________________________________________________________________\n",
      "dense_1 (Dense)              (None, 1)                 17        \n",
      "=================================================================\n",
      "Total params: 160,289\n",
      "Trainable params: 160,289\n",
      "Non-trainable params: 0\n",
      "_________________________________________________________________\n"
     ]
    }
   ],
   "source": [
    "# input shape is the vocabulary count used for the movie reviews (10,000 words)\n",
    "vocab_size = 10000\n",
    "\n",
    "model = keras.Sequential()\n",
    "model.add(keras.layers.Embedding(vocab_size, 16))\n",
    "model.add(keras.layers.GlobalAveragePooling1D())\n",
    "model.add(keras.layers.Dense(16, activation='relu'))\n",
    "model.add(keras.layers.Dense(1, activation='sigmoid'))\n",
    "\n",
    "model.summary()"
   ]
  },
  {
   "cell_type": "code",
   "execution_count": 12,
   "metadata": {},
   "outputs": [],
   "source": [
    "model.compile(optimizer='adam',\n",
    "              loss='binary_crossentropy',\n",
    "              metrics=['accuracy'])"
   ]
  },
  {
   "cell_type": "code",
   "execution_count": 13,
   "metadata": {},
   "outputs": [],
   "source": [
    "x_val = train_data[:10000]\n",
    "partial_x_train = train_data[10000:]\n",
    "\n",
    "y_val = train_labels[:10000]\n",
    "partial_y_train = train_labels[10000:]"
   ]
  },
  {
   "cell_type": "code",
   "execution_count": 14,
   "metadata": {},
   "outputs": [
    {
     "name": "stdout",
     "output_type": "stream",
     "text": [
      "Train on 15000 samples, validate on 10000 samples\n",
      "Epoch 1/40\n",
      "15000/15000 [==============================] - 1s 83us/sample - loss: 0.6908 - accuracy: 0.6494 - val_loss: 0.6863 - val_accuracy: 0.7427\n",
      "Epoch 2/40\n",
      "15000/15000 [==============================] - 1s 43us/sample - loss: 0.6741 - accuracy: 0.7420 - val_loss: 0.6586 - val_accuracy: 0.7696\n",
      "Epoch 3/40\n",
      "15000/15000 [==============================] - 1s 53us/sample - loss: 0.6266 - accuracy: 0.7858 - val_loss: 0.5984 - val_accuracy: 0.7932\n",
      "Epoch 4/40\n",
      "15000/15000 [==============================] - 1s 49us/sample - loss: 0.5507 - accuracy: 0.8197 - val_loss: 0.5221 - val_accuracy: 0.8123\n",
      "Epoch 5/40\n",
      "15000/15000 [==============================] - 1s 47us/sample - loss: 0.4683 - accuracy: 0.8507 - val_loss: 0.4515 - val_accuracy: 0.8436\n",
      "Epoch 6/40\n",
      "15000/15000 [==============================] - 1s 42us/sample - loss: 0.3983 - accuracy: 0.8723 - val_loss: 0.3991 - val_accuracy: 0.8535\n",
      "Epoch 7/40\n",
      "15000/15000 [==============================] - 1s 42us/sample - loss: 0.3460 - accuracy: 0.8837 - val_loss: 0.3613 - val_accuracy: 0.8641\n",
      "Epoch 8/40\n",
      "15000/15000 [==============================] - 1s 46us/sample - loss: 0.3077 - accuracy: 0.8947 - val_loss: 0.3376 - val_accuracy: 0.8707\n",
      "Epoch 9/40\n",
      "15000/15000 [==============================] - 1s 42us/sample - loss: 0.2775 - accuracy: 0.9037 - val_loss: 0.3195 - val_accuracy: 0.8762\n",
      "Epoch 10/40\n",
      "15000/15000 [==============================] - 1s 45us/sample - loss: 0.2534 - accuracy: 0.9111 - val_loss: 0.3069 - val_accuracy: 0.8786\n",
      "Epoch 11/40\n",
      "15000/15000 [==============================] - 1s 43us/sample - loss: 0.2333 - accuracy: 0.9185 - val_loss: 0.2979 - val_accuracy: 0.8818\n",
      "Epoch 12/40\n",
      "15000/15000 [==============================] - 1s 45us/sample - loss: 0.2166 - accuracy: 0.9239 - val_loss: 0.2925 - val_accuracy: 0.8821\n",
      "Epoch 13/40\n",
      "15000/15000 [==============================] - 1s 44us/sample - loss: 0.2020 - accuracy: 0.9297 - val_loss: 0.2870 - val_accuracy: 0.8847\n",
      "Epoch 14/40\n",
      "15000/15000 [==============================] - 1s 43us/sample - loss: 0.1881 - accuracy: 0.9347 - val_loss: 0.2839 - val_accuracy: 0.8859\n",
      "Epoch 15/40\n",
      "15000/15000 [==============================] - 1s 44us/sample - loss: 0.1761 - accuracy: 0.9416 - val_loss: 0.2826 - val_accuracy: 0.8858\n",
      "Epoch 16/40\n",
      "15000/15000 [==============================] - 1s 47us/sample - loss: 0.1651 - accuracy: 0.9479 - val_loss: 0.2820 - val_accuracy: 0.8858\n",
      "Epoch 17/40\n",
      "15000/15000 [==============================] - 1s 45us/sample - loss: 0.1555 - accuracy: 0.9499 - val_loss: 0.2821 - val_accuracy: 0.8864\n",
      "Epoch 18/40\n",
      "15000/15000 [==============================] - 1s 43us/sample - loss: 0.1455 - accuracy: 0.9541 - val_loss: 0.2842 - val_accuracy: 0.8867\n",
      "Epoch 19/40\n",
      "15000/15000 [==============================] - 1s 43us/sample - loss: 0.1374 - accuracy: 0.9584 - val_loss: 0.2853 - val_accuracy: 0.8875\n",
      "Epoch 20/40\n",
      "15000/15000 [==============================] - 1s 44us/sample - loss: 0.1287 - accuracy: 0.9622 - val_loss: 0.2886 - val_accuracy: 0.8856\n",
      "Epoch 21/40\n",
      "15000/15000 [==============================] - 1s 45us/sample - loss: 0.1217 - accuracy: 0.9649 - val_loss: 0.2909 - val_accuracy: 0.8859\n",
      "Epoch 22/40\n",
      "15000/15000 [==============================] - 1s 46us/sample - loss: 0.1151 - accuracy: 0.9668 - val_loss: 0.2945 - val_accuracy: 0.8866\n",
      "Epoch 23/40\n",
      "15000/15000 [==============================] - 1s 45us/sample - loss: 0.1086 - accuracy: 0.9701 - val_loss: 0.3013 - val_accuracy: 0.8834\n",
      "Epoch 24/40\n",
      "15000/15000 [==============================] - 1s 45us/sample - loss: 0.1030 - accuracy: 0.9709 - val_loss: 0.3032 - val_accuracy: 0.8850\n",
      "Epoch 25/40\n",
      "15000/15000 [==============================] - 1s 42us/sample - loss: 0.0968 - accuracy: 0.9746 - val_loss: 0.3080 - val_accuracy: 0.8843\n",
      "Epoch 26/40\n",
      "15000/15000 [==============================] - 1s 43us/sample - loss: 0.0913 - accuracy: 0.9766 - val_loss: 0.3160 - val_accuracy: 0.8815\n",
      "Epoch 27/40\n",
      "15000/15000 [==============================] - 1s 44us/sample - loss: 0.0866 - accuracy: 0.9777 - val_loss: 0.3182 - val_accuracy: 0.8831\n",
      "Epoch 28/40\n",
      "15000/15000 [==============================] - 1s 42us/sample - loss: 0.0817 - accuracy: 0.9805 - val_loss: 0.3255 - val_accuracy: 0.8809\n",
      "Epoch 29/40\n",
      "15000/15000 [==============================] - 1s 49us/sample - loss: 0.0773 - accuracy: 0.9817 - val_loss: 0.3336 - val_accuracy: 0.8780\n",
      "Epoch 30/40\n",
      "15000/15000 [==============================] - 1s 45us/sample - loss: 0.0733 - accuracy: 0.9838 - val_loss: 0.3367 - val_accuracy: 0.8793\n",
      "Epoch 31/40\n",
      "15000/15000 [==============================] - 1s 49us/sample - loss: 0.0688 - accuracy: 0.9852 - val_loss: 0.3438 - val_accuracy: 0.8788\n",
      "Epoch 32/40\n",
      "15000/15000 [==============================] - 1s 46us/sample - loss: 0.0652 - accuracy: 0.9861 - val_loss: 0.3500 - val_accuracy: 0.8782\n",
      "Epoch 33/40\n",
      "15000/15000 [==============================] - 1s 46us/sample - loss: 0.0615 - accuracy: 0.9872 - val_loss: 0.3564 - val_accuracy: 0.8783\n",
      "Epoch 34/40\n",
      "15000/15000 [==============================] - 1s 47us/sample - loss: 0.0582 - accuracy: 0.9884 - val_loss: 0.3636 - val_accuracy: 0.8780\n",
      "Epoch 35/40\n",
      "15000/15000 [==============================] - 1s 46us/sample - loss: 0.0549 - accuracy: 0.9908 - val_loss: 0.3730 - val_accuracy: 0.8758\n",
      "Epoch 36/40\n",
      "15000/15000 [==============================] - 1s 43us/sample - loss: 0.0526 - accuracy: 0.9900 - val_loss: 0.3809 - val_accuracy: 0.8755\n",
      "Epoch 37/40\n",
      "15000/15000 [==============================] - 1s 44us/sample - loss: 0.0491 - accuracy: 0.9915 - val_loss: 0.3860 - val_accuracy: 0.8766\n",
      "Epoch 38/40\n",
      "15000/15000 [==============================] - 1s 45us/sample - loss: 0.0467 - accuracy: 0.9918 - val_loss: 0.3948 - val_accuracy: 0.8743\n",
      "Epoch 39/40\n",
      "15000/15000 [==============================] - 1s 44us/sample - loss: 0.0439 - accuracy: 0.9931 - val_loss: 0.4030 - val_accuracy: 0.8744\n",
      "Epoch 40/40\n",
      "15000/15000 [==============================] - 1s 46us/sample - loss: 0.0413 - accuracy: 0.9939 - val_loss: 0.4086 - val_accuracy: 0.8757\n"
     ]
    }
   ],
   "source": [
    "history = model.fit(partial_x_train,\n",
    "                    partial_y_train,\n",
    "                    epochs=40,\n",
    "                    batch_size=256,\n",
    "                    validation_data=(x_val, y_val),\n",
    "                    verbose=1)"
   ]
  },
  {
   "cell_type": "code",
   "execution_count": 15,
   "metadata": {},
   "outputs": [
    {
     "name": "stdout",
     "output_type": "stream",
     "text": [
      "25000/25000 [==============================] - 1s 55us/sample - loss: 0.4354 - accuracy: 0.8616\n",
      "[0.43542220561504363, 0.86164]\n"
     ]
    }
   ],
   "source": [
    "results = model.evaluate(test_data, test_labels)\n",
    "\n",
    "print(results)"
   ]
  },
  {
   "cell_type": "code",
   "execution_count": 16,
   "metadata": {},
   "outputs": [
    {
     "data": {
      "text/plain": [
       "dict_keys(['loss', 'accuracy', 'val_loss', 'val_accuracy'])"
      ]
     },
     "execution_count": 16,
     "metadata": {},
     "output_type": "execute_result"
    }
   ],
   "source": [
    "history_dict = history.history\n",
    "history_dict.keys()"
   ]
  },
  {
   "cell_type": "code",
   "execution_count": 17,
   "metadata": {},
   "outputs": [
    {
     "data": {
      "text/plain": [
       "<Figure size 640x480 with 1 Axes>"
      ]
     },
     "metadata": {},
     "output_type": "display_data"
    }
   ],
   "source": [
    "import matplotlib.pyplot as plt\n",
    "\n",
    "acc = history_dict['accuracy']\n",
    "val_acc = history_dict['val_accuracy']\n",
    "loss = history_dict['loss']\n",
    "val_loss = history_dict['val_loss']\n",
    "\n",
    "epochs = range(1, len(acc) + 1)\n",
    "\n",
    "# \"bo\" is for \"blue dot\"\n",
    "plt.plot(epochs, loss, 'bo', label='Training loss')\n",
    "# b is for \"solid blue line\"\n",
    "plt.plot(epochs, val_loss, 'b', label='Validation loss')\n",
    "plt.title('Training and validation loss')\n",
    "plt.xlabel('Epochs')\n",
    "plt.ylabel('Loss')\n",
    "plt.legend()\n",
    "\n",
    "plt.show()"
   ]
  },
  {
   "cell_type": "code",
   "execution_count": 18,
   "metadata": {},
   "outputs": [
    {
     "data": {
      "image/png": "[encoded data removed]",
      "text/plain": [
       "<Figure size 432x288 with 1 Axes>"
      ]
     },
     "metadata": {
      "needs_background": "light"
     },
     "output_type": "display_data"
    }
   ],
   "source": [
    "plt.clf()   # clear figure\n",
    "\n",
    "plt.plot(epochs, acc, 'bo', label='Training acc')\n",
    "plt.plot(epochs, val_acc, 'b', label='Validation acc')\n",
    "plt.title('Training and validation accuracy')\n",
    "plt.xlabel('Epochs')\n",
    "plt.ylabel('Accuracy')\n",
    "plt.legend()\n",
    "\n",
    "plt.show()"
   ]
  },
  {
   "cell_type": "code",
   "execution_count": null,
   "metadata": {},
   "outputs": [],
   "source": []
  }
 ],
 "metadata": {
  "kernelspec": {
   "display_name": "Python 3",
   "language": "python",
   "name": "python3"
  },
  "language_info": {
   "codemirror_mode": {
    "name": "ipython",
    "version": 3
   },
   "file_extension": ".py",
   "mimetype": "text/x-python",
   "name": "python",
   "nbconvert_exporter": "python",
   "pygments_lexer": "ipython3",
   "version": "3.7.1"
  }
 },
 "nbformat": 4,
 "nbformat_minor": 2
}
