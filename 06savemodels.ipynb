{
 "cells": [
  {
   "cell_type": "code",
   "execution_count": 2,
   "metadata": {},
   "outputs": [
    {
     "data": {
      "text/plain": [
       "'2.0.0-alpha0'"
      ]
     },
     "execution_count": 2,
     "metadata": {},
     "output_type": "execute_result"
    }
   ],
   "source": [
    "from __future__ import absolute_import, division, print_function\n",
    "\n",
    "import os\n",
    "\n",
    "import tensorflow as tf\n",
    "from tensorflow import keras\n",
    "\n",
    "tf.__version__"
   ]
  },
  {
   "cell_type": "code",
   "execution_count": 3,
   "metadata": {},
   "outputs": [],
   "source": [
    "(train_images, train_labels), (test_images, test_labels) = tf.keras.datasets.mnist.load_data()\n",
    "\n",
    "train_labels = train_labels[:1000]\n",
    "test_labels = test_labels[:1000]\n",
    "\n",
    "train_images = train_images[:1000].reshape(-1, 28 * 28) / 255.0\n",
    "test_images = test_images[:1000].reshape(-1, 28 * 28) / 255.0"
   ]
  },
  {
   "cell_type": "code",
   "execution_count": 4,
   "metadata": {},
   "outputs": [
    {
     "name": "stdout",
     "output_type": "stream",
     "text": [
      "Model: \"sequential\"\n",
      "_________________________________________________________________\n",
      "Layer (type)                 Output Shape              Param #   \n",
      "=================================================================\n",
      "dense (Dense)                (None, 512)               401920    \n",
      "_________________________________________________________________\n",
      "dropout (Dropout)            (None, 512)               0         \n",
      "_________________________________________________________________\n",
      "dense_1 (Dense)              (None, 10)                5130      \n",
      "=================================================================\n",
      "Total params: 407,050\n",
      "Trainable params: 407,050\n",
      "Non-trainable params: 0\n",
      "_________________________________________________________________\n"
     ]
    }
   ],
   "source": [
    "# Returns a short sequential model\n",
    "def create_model():\n",
    "  model = tf.keras.models.Sequential([\n",
    "    keras.layers.Dense(512, activation='relu', input_shape=(784,)),\n",
    "    keras.layers.Dropout(0.2),\n",
    "    keras.layers.Dense(10, activation='softmax')\n",
    "  ])\n",
    "  \n",
    "  model.compile(optimizer='adam', \n",
    "                loss='sparse_categorical_crossentropy',\n",
    "                metrics=['accuracy'])\n",
    "  \n",
    "  return model\n",
    "\n",
    "\n",
    "# Create a basic model instance\n",
    "model = create_model()\n",
    "model.summary()"
   ]
  },
  {
   "cell_type": "code",
   "execution_count": 5,
   "metadata": {},
   "outputs": [
    {
     "name": "stdout",
     "output_type": "stream",
     "text": [
      "Train on 1000 samples, validate on 1000 samples\n",
      "Epoch 1/10\n",
      " 576/1000 [================>.............] - ETA: 0s - loss: 1.4585 - accuracy: 0.5781 \n",
      "Epoch 00001: saving model to training_1/cp.ckpt\n",
      "1000/1000 [==============================] - 1s 1ms/sample - loss: 1.1703 - accuracy: 0.6620 - val_loss: 0.6950 - val_accuracy: 0.7830\n",
      "Epoch 2/10\n",
      " 896/1000 [=========================>....] - ETA: 0s - loss: 0.4192 - accuracy: 0.8828\n",
      "Epoch 00002: saving model to training_1/cp.ckpt\n",
      "1000/1000 [==============================] - 0s 279us/sample - loss: 0.4290 - accuracy: 0.8790 - val_loss: 0.5271 - val_accuracy: 0.8430\n",
      "Epoch 3/10\n",
      " 928/1000 [==========================>...] - ETA: 0s - loss: 0.3012 - accuracy: 0.9095\n",
      "Epoch 00003: saving model to training_1/cp.ckpt\n",
      "1000/1000 [==============================] - 0s 247us/sample - loss: 0.2939 - accuracy: 0.9120 - val_loss: 0.4933 - val_accuracy: 0.8460\n",
      "Epoch 4/10\n",
      " 928/1000 [==========================>...] - ETA: 0s - loss: 0.2124 - accuracy: 0.9515\n",
      "Epoch 00004: saving model to training_1/cp.ckpt\n",
      "1000/1000 [==============================] - 0s 353us/sample - loss: 0.2096 - accuracy: 0.9520 - val_loss: 0.4366 - val_accuracy: 0.8570\n",
      "Epoch 5/10\n",
      " 736/1000 [=====================>........] - ETA: 0s - loss: 0.1418 - accuracy: 0.9755\n",
      "Epoch 00005: saving model to training_1/cp.ckpt\n",
      "1000/1000 [==============================] - 0s 298us/sample - loss: 0.1512 - accuracy: 0.9710 - val_loss: 0.4462 - val_accuracy: 0.8530\n",
      "Epoch 6/10\n",
      " 576/1000 [================>.............] - ETA: 0s - loss: 0.1176 - accuracy: 0.9774\n",
      "Epoch 00006: saving model to training_1/cp.ckpt\n",
      "1000/1000 [==============================] - 0s 309us/sample - loss: 0.1209 - accuracy: 0.9740 - val_loss: 0.4096 - val_accuracy: 0.8640\n",
      "Epoch 7/10\n",
      " 800/1000 [=======================>......] - ETA: 0s - loss: 0.0947 - accuracy: 0.9862\n",
      "Epoch 00007: saving model to training_1/cp.ckpt\n",
      "1000/1000 [==============================] - 0s 298us/sample - loss: 0.0911 - accuracy: 0.9870 - val_loss: 0.4162 - val_accuracy: 0.8530\n",
      "Epoch 8/10\n",
      " 704/1000 [====================>.........] - ETA: 0s - loss: 0.0644 - accuracy: 0.9943\n",
      "Epoch 00008: saving model to training_1/cp.ckpt\n",
      "1000/1000 [==============================] - 0s 308us/sample - loss: 0.0640 - accuracy: 0.9960 - val_loss: 0.4099 - val_accuracy: 0.8710\n",
      "Epoch 9/10\n",
      " 832/1000 [=======================>......] - ETA: 0s - loss: 0.0535 - accuracy: 0.9964\n",
      "Epoch 00009: saving model to training_1/cp.ckpt\n",
      "1000/1000 [==============================] - 0s 406us/sample - loss: 0.0527 - accuracy: 0.9970 - val_loss: 0.4218 - val_accuracy: 0.8620\n",
      "Epoch 10/10\n",
      " 640/1000 [==================>...........] - ETA: 0s - loss: 0.0369 - accuracy: 1.0000\n",
      "Epoch 00010: saving model to training_1/cp.ckpt\n",
      "1000/1000 [==============================] - 0s 293us/sample - loss: 0.0379 - accuracy: 0.9990 - val_loss: 0.3991 - val_accuracy: 0.8750\n"
     ]
    },
    {
     "data": {
      "text/plain": [
       "<tensorflow.python.keras.callbacks.History at 0x1e2fde91358>"
      ]
     },
     "execution_count": 5,
     "metadata": {},
     "output_type": "execute_result"
    }
   ],
   "source": [
    "checkpoint_path = \"training_1/cp.ckpt\"\n",
    "checkpoint_dir = os.path.dirname(checkpoint_path)\n",
    "\n",
    "# Create checkpoint callback\n",
    "cp_callback = tf.keras.callbacks.ModelCheckpoint(checkpoint_path, \n",
    "                                                 save_weights_only=True,\n",
    "                                                 verbose=1)\n",
    "\n",
    "model = create_model()\n",
    "\n",
    "model.fit(train_images, train_labels,  epochs = 10, \n",
    "          validation_data = (test_images,test_labels),\n",
    "          callbacks = [cp_callback])  # pass callback to training\n",
    "\n",
    "# This may generate warnings related to saving the state of the optimizer.\n",
    "# These warnings (and similar warnings throughout this notebook)\n",
    "# are in place to discourage outdated usage, and can be ignored."
   ]
  },
  {
   "cell_type": "code",
   "execution_count": 7,
   "metadata": {},
   "outputs": [
    {
     "name": "stdout",
     "output_type": "stream",
     "text": [
      " Volume in drive C has no label.\n",
      " Volume Serial Number is 4A4B-7B9A\n",
      "\n",
      " Directory of C:\\DL\\training_1\n",
      "\n",
      "03/21/2019  12:56 PM    <DIR>          .\n",
      "03/21/2019  12:56 PM    <DIR>          ..\n",
      "03/21/2019  12:56 PM                71 checkpoint\n",
      "03/21/2019  12:56 PM         4,889,870 cp.ckpt.data-00000-of-00001\n",
      "03/21/2019  12:56 PM             1,579 cp.ckpt.index\n",
      "               3 File(s)      4,891,520 bytes\n",
      "               2 Dir(s)  176,400,150,528 bytes free\n"
     ]
    }
   ],
   "source": [
    "!dir {checkpoint_dir}"
   ]
  },
  {
   "cell_type": "code",
   "execution_count": 8,
   "metadata": {},
   "outputs": [
    {
     "name": "stdout",
     "output_type": "stream",
     "text": [
      "1000/1000 [==============================] - 0s 135us/sample - loss: 2.4262 - accuracy: 0.1060\n",
      "Untrained model, accuracy: 10.60%\n"
     ]
    }
   ],
   "source": [
    "model = create_model()\n",
    "\n",
    "loss, acc = model.evaluate(test_images, test_labels)\n",
    "print(\"Untrained model, accuracy: {:5.2f}%\".format(100*acc))"
   ]
  },
  {
   "cell_type": "code",
   "execution_count": 9,
   "metadata": {},
   "outputs": [
    {
     "name": "stdout",
     "output_type": "stream",
     "text": [
      "1000/1000 [==============================] - 0s 69us/sample - loss: 0.3991 - accuracy: 0.8750\n",
      "Restored model, accuracy: 87.50%\n"
     ]
    }
   ],
   "source": [
    "model.load_weights(checkpoint_path)\n",
    "loss,acc = model.evaluate(test_images, test_labels)\n",
    "print(\"Restored model, accuracy: {:5.2f}%\".format(100*acc))"
   ]
  },
  {
   "cell_type": "code",
   "execution_count": 10,
   "metadata": {},
   "outputs": [
    {
     "name": "stdout",
     "output_type": "stream",
     "text": [
      "\n",
      "Epoch 00005: saving model to training_2/cp-0005.ckpt\n",
      "\n",
      "Epoch 00010: saving model to training_2/cp-0010.ckpt\n",
      "\n",
      "Epoch 00015: saving model to training_2/cp-0015.ckpt\n",
      "\n",
      "Epoch 00020: saving model to training_2/cp-0020.ckpt\n",
      "\n",
      "Epoch 00025: saving model to training_2/cp-0025.ckpt\n",
      "\n",
      "Epoch 00030: saving model to training_2/cp-0030.ckpt\n",
      "\n",
      "Epoch 00035: saving model to training_2/cp-0035.ckpt\n",
      "\n",
      "Epoch 00040: saving model to training_2/cp-0040.ckpt\n",
      "\n",
      "Epoch 00045: saving model to training_2/cp-0045.ckpt\n",
      "\n",
      "Epoch 00050: saving model to training_2/cp-0050.ckpt\n"
     ]
    },
    {
     "data": {
      "text/plain": [
       "<tensorflow.python.keras.callbacks.History at 0x1e305ff3f98>"
      ]
     },
     "execution_count": 10,
     "metadata": {},
     "output_type": "execute_result"
    }
   ],
   "source": [
    "# include the epoch in the file name. (uses `str.format`)\n",
    "checkpoint_path = \"training_2/cp-{epoch:04d}.ckpt\"\n",
    "checkpoint_dir = os.path.dirname(checkpoint_path)\n",
    "\n",
    "cp_callback = tf.keras.callbacks.ModelCheckpoint(\n",
    "    checkpoint_path, verbose=1, save_weights_only=True,\n",
    "    # Save weights, every 5-epochs.\n",
    "    period=5)\n",
    "\n",
    "model = create_model()\n",
    "model.save_weights(checkpoint_path.format(epoch=0))\n",
    "model.fit(train_images, train_labels,\n",
    "          epochs = 50, callbacks = [cp_callback],\n",
    "          validation_data = (test_images,test_labels),\n",
    "          verbose=0)"
   ]
  },
  {
   "cell_type": "code",
   "execution_count": 11,
   "metadata": {},
   "outputs": [
    {
     "name": "stdout",
     "output_type": "stream",
     "text": [
      " Volume in drive C has no label.\n",
      " Volume Serial Number is 4A4B-7B9A\n",
      "\n",
      " Directory of C:\\DL\\training_2\n",
      "\n",
      "03/21/2019  12:58 PM    <DIR>          .\n",
      "03/21/2019  12:58 PM    <DIR>          ..\n",
      "03/21/2019  12:58 PM                81 checkpoint\n",
      "03/21/2019  12:58 PM         1,631,611 cp-0000.ckpt.data-00000-of-00001\n",
      "03/21/2019  12:58 PM               706 cp-0000.ckpt.index\n",
      "03/21/2019  12:58 PM         4,889,898 cp-0005.ckpt.data-00000-of-00001\n",
      "03/21/2019  12:58 PM             1,579 cp-0005.ckpt.index\n",
      "03/21/2019  12:58 PM         4,889,898 cp-0010.ckpt.data-00000-of-00001\n",
      "03/21/2019  12:58 PM             1,579 cp-0010.ckpt.index\n",
      "03/21/2019  12:58 PM         4,889,898 cp-0015.ckpt.data-00000-of-00001\n",
      "03/21/2019  12:58 PM             1,579 cp-0015.ckpt.index\n",
      "03/21/2019  12:58 PM         4,889,898 cp-0020.ckpt.data-00000-of-00001\n",
      "03/21/2019  12:58 PM             1,579 cp-0020.ckpt.index\n",
      "03/21/2019  12:58 PM         4,889,898 cp-0025.ckpt.data-00000-of-00001\n",
      "03/21/2019  12:58 PM             1,579 cp-0025.ckpt.index\n",
      "03/21/2019  12:58 PM         4,889,898 cp-0030.ckpt.data-00000-of-00001\n",
      "03/21/2019  12:58 PM             1,579 cp-0030.ckpt.index\n",
      "03/21/2019  12:58 PM         4,889,898 cp-0035.ckpt.data-00000-of-00001\n",
      "03/21/2019  12:58 PM             1,579 cp-0035.ckpt.index\n",
      "03/21/2019  12:58 PM         4,889,898 cp-0040.ckpt.data-00000-of-00001\n",
      "03/21/2019  12:58 PM             1,579 cp-0040.ckpt.index\n",
      "03/21/2019  12:58 PM         4,889,898 cp-0045.ckpt.data-00000-of-00001\n",
      "03/21/2019  12:58 PM             1,579 cp-0045.ckpt.index\n",
      "03/21/2019  12:58 PM         4,889,898 cp-0050.ckpt.data-00000-of-00001\n",
      "03/21/2019  12:58 PM             1,579 cp-0050.ckpt.index\n",
      "              23 File(s)     50,547,168 bytes\n",
      "               2 Dir(s)  176,348,778,496 bytes free\n"
     ]
    }
   ],
   "source": [
    "! dir {checkpoint_dir}"
   ]
  },
  {
   "cell_type": "code",
   "execution_count": 12,
   "metadata": {},
   "outputs": [
    {
     "data": {
      "text/plain": [
       "'training_2\\\\cp-0050.ckpt'"
      ]
     },
     "execution_count": 12,
     "metadata": {},
     "output_type": "execute_result"
    }
   ],
   "source": [
    "latest = tf.train.latest_checkpoint(checkpoint_dir)\n",
    "latest"
   ]
  },
  {
   "cell_type": "code",
   "execution_count": 13,
   "metadata": {},
   "outputs": [
    {
     "name": "stdout",
     "output_type": "stream",
     "text": [
      "1000/1000 [==============================] - 0s 121us/sample - loss: 0.4836 - accuracy: 0.8760\n",
      "Restored model, accuracy: 87.60%\n"
     ]
    }
   ],
   "source": [
    "model = create_model()\n",
    "model.load_weights(latest)\n",
    "loss, acc = model.evaluate(test_images, test_labels)\n",
    "print(\"Restored model, accuracy: {:5.2f}%\".format(100*acc))"
   ]
  },
  {
   "cell_type": "code",
   "execution_count": 14,
   "metadata": {},
   "outputs": [
    {
     "name": "stdout",
     "output_type": "stream",
     "text": [
      "1000/1000 [==============================] - 0s 120us/sample - loss: 0.4836 - accuracy: 0.8760\n",
      "Restored model, accuracy: 87.60%\n"
     ]
    }
   ],
   "source": [
    "# Save the weights\n",
    "model.save_weights('./checkpoints/my_checkpoint')\n",
    "\n",
    "# Restore the weights\n",
    "model = create_model()\n",
    "model.load_weights('./checkpoints/my_checkpoint')\n",
    "\n",
    "loss,acc = model.evaluate(test_images, test_labels)\n",
    "print(\"Restored model, accuracy: {:5.2f}%\".format(100*acc))"
   ]
  },
  {
   "cell_type": "code",
   "execution_count": 15,
   "metadata": {},
   "outputs": [
    {
     "name": "stdout",
     "output_type": "stream",
     "text": [
      "Epoch 1/5\n",
      "1000/1000 [==============================] - 0s 242us/sample - loss: 1.1269 - accuracy: 0.6930\n",
      "Epoch 2/5\n",
      "1000/1000 [==============================] - 0s 151us/sample - loss: 0.4142 - accuracy: 0.8900\n",
      "Epoch 3/5\n",
      "1000/1000 [==============================] - 0s 182us/sample - loss: 0.2833 - accuracy: 0.9270\n",
      "Epoch 4/5\n",
      "1000/1000 [==============================] - 0s 160us/sample - loss: 0.2061 - accuracy: 0.9520\n",
      "Epoch 5/5\n",
      "1000/1000 [==============================] - 0s 172us/sample - loss: 0.1534 - accuracy: 0.9690\n"
     ]
    }
   ],
   "source": [
    "model = create_model()\n",
    "\n",
    "model.fit(train_images, train_labels, epochs=5)\n",
    "\n",
    "# Save entire model to a HDF5 file\n",
    "model.save('my_model.h5')"
   ]
  },
  {
   "cell_type": "code",
   "execution_count": 16,
   "metadata": {},
   "outputs": [
    {
     "name": "stdout",
     "output_type": "stream",
     "text": [
      "Model: \"sequential_6\"\n",
      "_________________________________________________________________\n",
      "Layer (type)                 Output Shape              Param #   \n",
      "=================================================================\n",
      "dense_12 (Dense)             (None, 512)               401920    \n",
      "_________________________________________________________________\n",
      "dropout_6 (Dropout)          (None, 512)               0         \n",
      "_________________________________________________________________\n",
      "dense_13 (Dense)             (None, 10)                5130      \n",
      "=================================================================\n",
      "Total params: 407,050\n",
      "Trainable params: 407,050\n",
      "Non-trainable params: 0\n",
      "_________________________________________________________________\n"
     ]
    }
   ],
   "source": [
    "# Recreate the exact same model, including weights and optimizer.\n",
    "new_model = keras.models.load_model('my_model.h5')\n",
    "new_model.summary()"
   ]
  },
  {
   "cell_type": "code",
   "execution_count": 17,
   "metadata": {},
   "outputs": [
    {
     "name": "stdout",
     "output_type": "stream",
     "text": [
      "1000/1000 [==============================] - 0s 131us/sample - loss: 0.4295 - accuracy: 0.8660\n",
      "Restored model, accuracy: 86.60%\n"
     ]
    }
   ],
   "source": [
    "loss, acc = new_model.evaluate(test_images, test_labels)\n",
    "print(\"Restored model, accuracy: {:5.2f}%\".format(100*acc))"
   ]
  },
  {
   "cell_type": "code",
   "execution_count": 18,
   "metadata": {},
   "outputs": [
    {
     "name": "stdout",
     "output_type": "stream",
     "text": [
      "Epoch 1/5\n",
      "1000/1000 [==============================] - 0s 222us/sample - loss: 1.2081 - accuracy: 0.6560\n",
      "Epoch 2/5\n",
      "1000/1000 [==============================] - 0s 123us/sample - loss: 0.4444 - accuracy: 0.8700\n",
      "Epoch 3/5\n",
      "1000/1000 [==============================] - 0s 120us/sample - loss: 0.2957 - accuracy: 0.9220\n",
      "Epoch 4/5\n",
      "1000/1000 [==============================] - 0s 194us/sample - loss: 0.2069 - accuracy: 0.9540\n",
      "Epoch 5/5\n",
      "1000/1000 [==============================] - 0s 134us/sample - loss: 0.1492 - accuracy: 0.9710\n"
     ]
    },
    {
     "data": {
      "text/plain": [
       "<tensorflow.python.keras.callbacks.History at 0x1e30b174898>"
      ]
     },
     "execution_count": 18,
     "metadata": {},
     "output_type": "execute_result"
    }
   ],
   "source": [
    "model = create_model()\n",
    "\n",
    "model.fit(train_images, train_labels, epochs=5)"
   ]
  },
  {
   "cell_type": "code",
   "execution_count": 19,
   "metadata": {},
   "outputs": [
    {
     "name": "stderr",
     "output_type": "stream",
     "text": [
      "WARNING: Logging before flag parsing goes to stderr.\n",
      "W0321 14:46:05.983535 11840 deprecation.py:323] From C:\\ProgramData\\Anaconda3\\lib\\site-packages\\tensorflow\\python\\saved_model\\signature_def_utils_impl.py:253: build_tensor_info (from tensorflow.python.saved_model.utils_impl) is deprecated and will be removed in a future version.\n",
      "Instructions for updating:\n",
      "This function will only be available through the v1 compatibility library as tf.compat.v1.saved_model.utils.build_tensor_info or tf.compat.v1.saved_model.build_tensor_info.\n",
      "W0321 14:46:05.985529 11840 tf_logging.py:161] Export includes no default signature!\n",
      "W0321 14:46:06.379411 11840 tf_logging.py:161] Export includes no default signature!\n"
     ]
    },
    {
     "data": {
      "text/plain": [
       "'./saved_models/1553154365'"
      ]
     },
     "execution_count": 19,
     "metadata": {},
     "output_type": "execute_result"
    }
   ],
   "source": [
    "import time\n",
    "saved_model_path = \"./saved_models/{}\".format(int(time.time()))\n",
    "\n",
    "tf.keras.experimental.export_saved_model(model, saved_model_path)\n",
    "saved_model_path"
   ]
  },
  {
   "cell_type": "code",
   "execution_count": 23,
   "metadata": {},
   "outputs": [
    {
     "name": "stdout",
     "output_type": "stream",
     "text": [
      " Volume in drive C has no label.\n",
      " Volume Serial Number is 4A4B-7B9A\n",
      "\n",
      " Directory of C:\\DL\\saved_models\n",
      "\n",
      "03/21/2019  02:46 PM    <DIR>          .\n",
      "03/21/2019  02:46 PM    <DIR>          ..\n",
      "03/21/2019  02:46 PM    <DIR>          1553154365\n",
      "               0 File(s)              0 bytes\n",
      "               3 Dir(s)  175,247,220,736 bytes free\n"
     ]
    }
   ],
   "source": [
    "!dir saved_models"
   ]
  },
  {
   "cell_type": "code",
   "execution_count": 24,
   "metadata": {},
   "outputs": [
    {
     "name": "stdout",
     "output_type": "stream",
     "text": [
      "Model: \"sequential_7\"\n",
      "_________________________________________________________________\n",
      "Layer (type)                 Output Shape              Param #   \n",
      "=================================================================\n",
      "dense_14 (Dense)             (None, 512)               401920    \n",
      "_________________________________________________________________\n",
      "dropout_7 (Dropout)          (None, 512)               0         \n",
      "_________________________________________________________________\n",
      "dense_15 (Dense)             (None, 10)                5130      \n",
      "=================================================================\n",
      "Total params: 407,050\n",
      "Trainable params: 407,050\n",
      "Non-trainable params: 0\n",
      "_________________________________________________________________\n"
     ]
    }
   ],
   "source": [
    "new_model = tf.keras.experimental.load_from_saved_model(saved_model_path)\n",
    "new_model.summary()"
   ]
  },
  {
   "cell_type": "code",
   "execution_count": 25,
   "metadata": {},
   "outputs": [
    {
     "data": {
      "text/plain": [
       "(1000, 10)"
      ]
     },
     "execution_count": 25,
     "metadata": {},
     "output_type": "execute_result"
    }
   ],
   "source": [
    "model.predict(test_images).shape"
   ]
  },
  {
   "cell_type": "code",
   "execution_count": 26,
   "metadata": {},
   "outputs": [
    {
     "name": "stdout",
     "output_type": "stream",
     "text": [
      "1000/1000 [==============================] - 0s 137us/sample - loss: 0.4450 - accuracy: 0.8540\n",
      "Restored model, accuracy: 85.40%\n"
     ]
    }
   ],
   "source": [
    "# The model has to be compiled before evaluating.\n",
    "# This step is not required if the saved model is only being deployed.\n",
    "\n",
    "new_model.compile(optimizer=model.optimizer,  # keep the optimizer that was loaded\n",
    "              loss='sparse_categorical_crossentropy',\n",
    "              metrics=['accuracy'])\n",
    "\n",
    "# Evaluate the restored model.\n",
    "loss, acc = new_model.evaluate(test_images, test_labels)\n",
    "print(\"Restored model, accuracy: {:5.2f}%\".format(100*acc))"
   ]
  },
  {
   "cell_type": "code",
   "execution_count": null,
   "metadata": {},
   "outputs": [],
   "source": []
  }
 ],
 "metadata": {
  "kernelspec": {
   "display_name": "Python 3",
   "language": "python",
   "name": "python3"
  },
  "language_info": {
   "codemirror_mode": {
    "name": "ipython",
    "version": 3
   },
   "file_extension": ".py",
   "mimetype": "text/x-python",
   "name": "python",
   "nbconvert_exporter": "python",
   "pygments_lexer": "ipython3",
   "version": "3.7.1"
  }
 },
 "nbformat": 4,
 "nbformat_minor": 2
}
